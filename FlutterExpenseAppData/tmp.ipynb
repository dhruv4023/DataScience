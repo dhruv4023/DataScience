{
 "cells": [
  {
   "cell_type": "code",
   "execution_count": 1,
   "metadata": {},
   "outputs": [],
   "source": [
    "import pandas as pd"
   ]
  },
  {
   "cell_type": "code",
   "execution_count": 3,
   "metadata": {},
   "outputs": [],
   "source": [
    "df=pd.read_csv(\"U:\\Files\\DS\\FlutterExpenseAppData\\My Expense  - EXPENSE 2024.csv\")"
   ]
  },
  {
   "cell_type": "code",
   "execution_count": 4,
   "metadata": {},
   "outputs": [
    {
     "data": {
      "text/plain": [
       "{'Amazon',\n",
       " 'Biils',\n",
       " 'Bills',\n",
       " 'CASHBACK',\n",
       " 'FK',\n",
       " 'Food',\n",
       " 'GPAY LITE',\n",
       " 'HIGHER STUDY',\n",
       " 'HOTEL REVIEW',\n",
       " 'HOTEL REVIEW ',\n",
       " 'KIRTAN',\n",
       " 'ME',\n",
       " 'MUMMY',\n",
       " 'Other',\n",
       " 'SELF TRANSFER',\n",
       " 'Top Deals',\n",
       " 'Transport',\n",
       " 'int8',\n",
       " nan}"
      ]
     },
     "execution_count": 4,
     "metadata": {},
     "output_type": "execute_result"
    }
   ],
   "source": [
    "set(df[\"Label\"])"
   ]
  }
 ],
 "metadata": {
  "kernelspec": {
   "display_name": ".venv",
   "language": "python",
   "name": "python3"
  },
  "language_info": {
   "codemirror_mode": {
    "name": "ipython",
    "version": 3
   },
   "file_extension": ".py",
   "mimetype": "text/x-python",
   "name": "python",
   "nbconvert_exporter": "python",
   "pygments_lexer": "ipython3",
   "version": "3.9.13"
  }
 },
 "nbformat": 4,
 "nbformat_minor": 2
}
