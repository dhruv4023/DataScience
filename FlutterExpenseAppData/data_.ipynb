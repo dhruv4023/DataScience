{
 "cells": [
  {
   "cell_type": "code",
   "execution_count": 2,
   "metadata": {},
   "outputs": [],
   "source": [
    "import pandas as pd"
   ]
  },
  {
   "cell_type": "code",
   "execution_count": 3,
   "metadata": {},
   "outputs": [],
   "source": [
    "csv_files = [\n",
    "    # \"C:\\\\Users\\\\Dhruv Patel\\\\OneDrive\\\\OneNotes\\\\ExpenseReport\\\\ExpenseData\\\\expense_data_2021.csv\",\n",
    "    # \"C:\\\\Users\\\\Dhruv Patel\\\\OneDrive\\\\OneNotes\\\\ExpenseReport\\\\ExpenseData\\\\expense_data_2022.csv\",\n",
    "    # \"C:\\\\Users\\\\Dhruv Patel\\\\OneDrive\\\\OneNotes\\\\ExpenseReport\\\\ExpenseData\\\\expense_data_2023.csv\",\n",
    "    \"C:\\\\Users\\\\Dhruv Patel\\\\OneDrive\\\\OneNotes\\\\ExpenseReport\\\\ExpenseData\\\\expense_data_2024.csv\",\n",
    "]\n",
    "\n",
    "# Load and clean data\n",
    "dataframes = [pd.read_csv(file) for file in csv_files]\n",
    "\n",
    "# Concatenate all DataFrames\n",
    "df = pd.concat(dataframes, ignore_index=True)"
   ]
  },
  {
   "cell_type": "code",
   "execution_count": 4,
   "metadata": {},
   "outputs": [
    {
     "data": {
      "text/plain": [
       "265.0"
      ]
     },
     "execution_count": 4,
     "metadata": {},
     "output_type": "execute_result"
    }
   ],
   "source": [
    "df_pocket=df[df[\"Account\"]==\"Pocket\"]\n",
    "df_pocket[\"Amount\"].sum()"
   ]
  },
  {
   "cell_type": "code",
   "execution_count": 13,
   "metadata": {},
   "outputs": [],
   "source": [
    "if \"Time\" not in df:\n",
    "    df[\"Time\"] = \"-\"\n",
    "df[\"Time\"] = df[\"Time\"].replace(\"-\", \"12:00:00 AM\")\n",
    "df[\"Time\"] = df[\"Time\"].fillna(\"12:00:00 AM\")"
   ]
  },
  {
   "cell_type": "code",
   "execution_count": 14,
   "metadata": {},
   "outputs": [],
   "source": [
    "df.to_csv(\"tmp.csv\",index=False)"
   ]
  }
 ],
 "metadata": {
  "kernelspec": {
   "display_name": ".venv",
   "language": "python",
   "name": "python3"
  },
  "language_info": {
   "codemirror_mode": {
    "name": "ipython",
    "version": 3
   },
   "file_extension": ".py",
   "mimetype": "text/x-python",
   "name": "python",
   "nbconvert_exporter": "python",
   "pygments_lexer": "ipython3",
   "version": "3.9.13"
  }
 },
 "nbformat": 4,
 "nbformat_minor": 2
}
