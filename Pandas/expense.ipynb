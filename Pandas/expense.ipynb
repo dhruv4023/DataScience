{
 "cells": [
  {
   "cell_type": "code",
   "execution_count": 1,
   "metadata": {},
   "outputs": [],
   "source": [
    "import pandas as pd"
   ]
  },
  {
   "cell_type": "code",
   "execution_count": 2,
   "metadata": {},
   "outputs": [
    {
     "name": "stdout",
     "output_type": "stream",
     "text": [
      "       No.        Date  Account                Note    Amount\n",
      "0        1  2021-01-01     8663     Opening Balance  12229.29\n",
      "1        2  2021-01-01     1660     Opening Balance   1005.60\n",
      "2        3  2021-01-01     7373     Opening Balance    563.00\n",
      "3        4  2021-01-04     1660                   -    -49.00\n",
      "4        5  2021-01-08     1660                JEE    -650.00\n",
      "...    ...         ...      ...                 ...       ...\n",
      "1337  1338  2024-07-04     1660      SELF TRANSFER    -800.00\n",
      "1338  1339  2024-07-04     7373  Bills gas cylinder   -810.00\n",
      "1339  1340  2024-07-05     8663              MUMMY   30000.00\n",
      "1340  1341  2024-07-05     8663              MUMMY   -2000.00\n",
      "1341  1342  2024-07-06     7373          Top Deals     238.00\n",
      "\n",
      "[1342 rows x 5 columns]\n"
     ]
    }
   ],
   "source": [
    "import pandas as pd\n",
    "\n",
    "file_name_start_with = \"expense_data_\"\n",
    "df = pd.DataFrame()\n",
    "\n",
    "for i in range(2021, 2025):\n",
    "    # Read the CSV file for the given year\n",
    "    tmp_df = pd.read_csv(file_name_start_with + str(i) + \".csv\")\n",
    "    \n",
    "    # Concatenate the temporary DataFrame with the main DataFrame\n",
    "    df = pd.concat([df, tmp_df], ignore_index=True)\n",
    "\n",
    "# Display the concatenated DataFrame\n",
    "print(df)\n"
   ]
  },
  {
   "cell_type": "code",
   "execution_count": 3,
   "metadata": {},
   "outputs": [],
   "source": [
    "# df['Date'] = df['Date'].fillna(method='ffill')\n",
    "# df['Date'] = pd.to_datetime(df['Date'], format='%d-%m-%Y')\n",
    "# df"
   ]
  },
  {
   "cell_type": "code",
   "execution_count": 4,
   "metadata": {},
   "outputs": [],
   "source": [
    "# df_filtered = df[df[\"Date\"].dt.year==2024]\n",
    "# df_filtered.to_csv(\"expense_data_2024.csv\",index=False)\n",
    "df_filtered=df"
   ]
  },
  {
   "cell_type": "code",
   "execution_count": 5,
   "metadata": {},
   "outputs": [
    {
     "name": "stdout",
     "output_type": "stream",
     "text": [
      "28504.81\n",
      "1149.17\n",
      "837.93\n"
     ]
    }
   ],
   "source": [
    "df_tmp = df_filtered[(df_filtered[\"Account\"] == 8663.0)]\n",
    "print(round(df_tmp[\"Amount\"].sum(),2))\n",
    "df_tmp = df_filtered[(df_filtered[\"Account\"] == 1660.0)]\n",
    "print(round(df_tmp[\"Amount\"].sum(),2))\n",
    "df_tmp = df_filtered[(df_filtered[\"Account\"] == 7373.0)]\n",
    "print(round(df_tmp[\"Amount\"].sum(),2))\n",
    "# # df_filtered[\"amount\"].sum()  \n",
    "# # df_filtered.to_csv(\"1660_737.csv\")"
   ]
  }
 ],
 "metadata": {
  "kernelspec": {
   "display_name": ".venv",
   "language": "python",
   "name": "python3"
  },
  "language_info": {
   "codemirror_mode": {
    "name": "ipython",
    "version": 3
   },
   "file_extension": ".py",
   "mimetype": "text/x-python",
   "name": "python",
   "nbconvert_exporter": "python",
   "pygments_lexer": "ipython3",
   "version": "3.9.13"
  }
 },
 "nbformat": 4,
 "nbformat_minor": 2
}
